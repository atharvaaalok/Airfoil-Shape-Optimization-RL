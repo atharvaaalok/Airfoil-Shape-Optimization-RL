{
 "cells": [
  {
   "cell_type": "code",
   "execution_count": null,
   "metadata": {},
   "outputs": [],
   "source": [
    "import numpy as np\n",
    "import matplotlib.pyplot as plt\n",
    "from Splines import *"
   ]
  },
  {
   "cell_type": "code",
   "execution_count": null,
   "metadata": {},
   "outputs": [],
   "source": [
    "# Quadratic Bezier\n",
    "cp0 = [(0, 0), (0, 2), (2, 0)]\n",
    "cp1 = [(2, 0), (2, 4), (4, 2)]\n",
    "cp2 = [(4, 2), (4, 6), (6, 4)]\n",
    "\n",
    "cp_list = [cp0, cp1, cp2]\n",
    "spline = Bezier_spline(cp_list)\n",
    "\n",
    "n = 40\n",
    "points = spline.generate_points(n)\n",
    "x = points[:, 0]\n",
    "y = points[:, 1]\n",
    "\n",
    "plt.plot(x, y, marker = 'o')\n",
    "ax = plt.gca()\n",
    "ax.set_aspect('equal', adjustable='box')\n",
    "plt.title('Quadratic Bezier Spline')\n",
    "plt.show()"
   ]
  },
  {
   "cell_type": "code",
   "execution_count": null,
   "metadata": {},
   "outputs": [],
   "source": [
    "# Cubic Bezier\n",
    "cp0 = [(0, 0), (0, 2), (2, 0), (2, 2)]\n",
    "cp1 = [(2, 2), (2, 4), (4, 2), (4, 4)]\n",
    "cp2 = [(4, 4), (4, 6), (6, 4), (6, 6)]\n",
    "\n",
    "cp_list = [cp0, cp1, cp2]\n",
    "spline = Bezier_spline(cp_list)\n",
    "\n",
    "n = 40\n",
    "points = spline.generate_points(n)\n",
    "x = points[:, 0]\n",
    "y = points[:, 1]\n",
    "\n",
    "plt.plot(x, y, marker = 'o')\n",
    "ax = plt.gca()\n",
    "ax.set_aspect('equal', adjustable='box')\n",
    "plt.title('Cubic Bezier Spline')\n",
    "plt.show()"
   ]
  },
  {
   "cell_type": "code",
   "execution_count": null,
   "metadata": {},
   "outputs": [],
   "source": [
    "# Airfoil - Using Cubic Bezier Spline\n",
    "cp0 = [[372, -111], [199, -20], [134, -27], [107, -27]]\n",
    "cp1 = [[107, -27], [33, -27], [26, -60], [29, -94]]\n",
    "cp2 = [[29, -94], [89, -139], [99, -55], [372, -111]]\n",
    "\n",
    "cp_list = [cp0, cp1, cp2]\n",
    "spline = Bezier_spline(cp_list)\n",
    "\n",
    "n = 40\n",
    "points = spline.generate_points(n)\n",
    "x = points[:, 0]\n",
    "y = points[:, 1]\n",
    "\n",
    "plt.plot(x, y, marker = 'o')\n",
    "ax = plt.gca()\n",
    "ax.set_aspect('equal', adjustable='box')\n",
    "plt.title('Airfoil: Cubic Bezier')\n",
    "plt.show()"
   ]
  },
  {
   "cell_type": "code",
   "execution_count": null,
   "metadata": {},
   "outputs": [],
   "source": [
    "# Catmull Rom Spline\n",
    "cp_list = [(0, 0), (0, 2), (2, 0), (2, 2), (2, 4), (4, 2), (4, 4), (4, 6), (6, 4), (6, 6)]\n",
    "spline = CatmullRom_spline(cp_list)\n",
    "\n",
    "n = 40\n",
    "points = spline.generate_points(n)\n",
    "x = points[:, 0]\n",
    "y = points[:, 1]\n",
    "\n",
    "plt.plot(x, y, marker = 'o')\n",
    "ax = plt.gca()\n",
    "ax.set_aspect('equal', adjustable='box')\n",
    "plt.title('Catmull Rom Spline')\n",
    "plt.show()"
   ]
  },
  {
   "cell_type": "code",
   "execution_count": null,
   "metadata": {},
   "outputs": [],
   "source": [
    "# B-Spline\n",
    "cp_list = [(0, 0), (0, 2), (2, 0), (2, 2), (2, 4), (4, 2), (4, 4), (4, 6), (6, 4), (6, 6)]\n",
    "spline = B_spline(cp_list)\n",
    "\n",
    "n = 40\n",
    "points = spline.generate_points(n)\n",
    "x = points[:, 0]\n",
    "y = points[:, 1]\n",
    "\n",
    "plt.plot(x, y, marker = 'o')\n",
    "ax = plt.gca()\n",
    "ax.set_aspect('equal', adjustable='box')\n",
    "plt.title('B Spline')\n",
    "plt.show()"
   ]
  }
 ],
 "metadata": {
  "kernelspec": {
   "display_name": "Python 3",
   "language": "python",
   "name": "python3"
  },
  "language_info": {
   "codemirror_mode": {
    "name": "ipython",
    "version": 3
   },
   "file_extension": ".py",
   "mimetype": "text/x-python",
   "name": "python",
   "nbconvert_exporter": "python",
   "pygments_lexer": "ipython3",
   "version": "3.11.5"
  }
 },
 "nbformat": 4,
 "nbformat_minor": 2
}
