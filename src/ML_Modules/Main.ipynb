{
 "cells": [
  {
   "cell_type": "markdown",
   "metadata": {},
   "source": [
    "# Import necessary libraries and modules"
   ]
  },
  {
   "cell_type": "code",
   "execution_count": 1,
   "metadata": {},
   "outputs": [],
   "source": [
    "# Import libraries\n",
    "import torch\n",
    "\n",
    "# Import modules\n",
    "from NeuralNetwork import NeuralNetwork, Train_NN"
   ]
  },
  {
   "cell_type": "markdown",
   "metadata": {},
   "source": [
    "# Import function and Produce Data\n",
    "Import the function that you are trying to model using the neural network.\n",
    "\n",
    "Generate labeled data to train the neural network."
   ]
  },
  {
   "cell_type": "code",
   "execution_count": 2,
   "metadata": {},
   "outputs": [
    {
     "name": "stdout",
     "output_type": "stream",
     "text": [
      "torch.Size([10000, 2])\n",
      "torch.Size([10000, 2])\n"
     ]
    }
   ],
   "source": [
    "# Import the objective function that we are trying to fit\n",
    "from Objective_function import func_scalar, func_vector\n",
    "\n",
    "# Generate training data\n",
    "num_samples = 10000\n",
    "\n",
    "x1_train = torch.rand(num_samples) * 5\n",
    "x2_train = torch.rand(num_samples) * 5\n",
    "\n",
    "# REMEMBER: Input data to the neural network consists of the training examples as rows\n",
    "input_data = torch.stack((x1_train, x2_train), dim = 1)\n",
    "print(input_data.shape)\n",
    "\n",
    "# Generate labeled outputs. Evaluate your function at the above input samples and generate labeled dataset.\n",
    "# Tweak the function file accordingly as per requirement\n",
    "output_values = func_vector(input_data)\n",
    "print(output_values.shape)"
   ]
  },
  {
   "cell_type": "markdown",
   "metadata": {},
   "source": [
    "# Make Neural Network\n",
    "Specify layer sizes and create neural network object."
   ]
  },
  {
   "cell_type": "code",
   "execution_count": 3,
   "metadata": {},
   "outputs": [],
   "source": [
    "# Specify size of neural network\n",
    "input_size = 2\n",
    "output_size = 2\n",
    "# Two hidden layers of sizes 16 each\n",
    "layer_size_list = [25, 25]\n",
    "\n",
    "# Instantiate neural network\n",
    "model = NeuralNetwork(input_size, output_size, layer_size_list)"
   ]
  },
  {
   "cell_type": "markdown",
   "metadata": {},
   "source": [
    "# Define Hyperparameters\n",
    "Define the learning rate and the number of gradient descent steps to take."
   ]
  },
  {
   "cell_type": "code",
   "execution_count": 4,
   "metadata": {},
   "outputs": [],
   "source": [
    "learning_rate = 0.01\n",
    "epochs = 10000"
   ]
  },
  {
   "cell_type": "markdown",
   "metadata": {},
   "source": [
    "# Train the Neural Network"
   ]
  },
  {
   "cell_type": "code",
   "execution_count": 5,
   "metadata": {},
   "outputs": [
    {
     "name": "stdout",
     "output_type": "stream",
     "text": [
      "Epoch [1/10000], Loss: 3373.7920\n",
      "Epoch [501/10000], Loss: 3.8239\n",
      "Epoch [1001/10000], Loss: 1.1904\n",
      "Epoch [1501/10000], Loss: 0.6880\n",
      "Epoch [2001/10000], Loss: 0.5866\n",
      "Epoch [2501/10000], Loss: 0.4829\n",
      "Epoch [3001/10000], Loss: 0.4038\n",
      "Epoch [3501/10000], Loss: 0.3364\n",
      "Epoch [4001/10000], Loss: 0.2791\n",
      "Epoch [4501/10000], Loss: 0.2441\n",
      "Epoch [5001/10000], Loss: 0.2198\n",
      "Epoch [5501/10000], Loss: 0.2046\n",
      "Epoch [6001/10000], Loss: 0.1963\n",
      "Epoch [6501/10000], Loss: 0.1862\n",
      "Epoch [7001/10000], Loss: 0.1787\n",
      "Epoch [7501/10000], Loss: 0.1710\n",
      "Epoch [8001/10000], Loss: 0.7073\n",
      "Epoch [8501/10000], Loss: 0.3043\n",
      "Epoch [9001/10000], Loss: 0.1485\n",
      "Epoch [9501/10000], Loss: 0.1320\n"
     ]
    }
   ],
   "source": [
    "Train_NN(input_data, output_values, model, learning_rate, epochs)"
   ]
  },
  {
   "cell_type": "markdown",
   "metadata": {},
   "source": [
    "# Test trained model on new data"
   ]
  },
  {
   "cell_type": "code",
   "execution_count": 6,
   "metadata": {},
   "outputs": [
    {
     "name": "stdout",
     "output_type": "stream",
     "text": [
      "True Output = tensor([[25., 91.]])\n",
      "Predicted value is: tensor([[24.9625, 91.4093]], grad_fn=<AddmmBackward0>)\n"
     ]
    }
   ],
   "source": [
    "input_test = torch.Tensor([[3.0, 4.0]])\n",
    "output_test = func_vector(input_test)\n",
    "print(f'True Output = {output_test}')\n",
    "\n",
    "predicted_value = model(input_test)\n",
    "print(f\"Predicted value is: {predicted_value}\")"
   ]
  }
 ],
 "metadata": {
  "kernelspec": {
   "display_name": "Python 3",
   "language": "python",
   "name": "python3"
  },
  "language_info": {
   "codemirror_mode": {
    "name": "ipython",
    "version": 3
   },
   "file_extension": ".py",
   "mimetype": "text/x-python",
   "name": "python",
   "nbconvert_exporter": "python",
   "pygments_lexer": "ipython3",
   "version": "3.11.5"
  }
 },
 "nbformat": 4,
 "nbformat_minor": 2
}
